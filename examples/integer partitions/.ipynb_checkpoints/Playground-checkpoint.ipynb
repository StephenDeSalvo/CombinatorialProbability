{
 "cells": [
  {
   "cell_type": "code",
   "execution_count": 14,
   "metadata": {},
   "outputs": [],
   "source": [
    "import sys\n",
    "sys.path.append(\"../../../\")\n",
    "import numpy\n",
    "from scipy.stats import geom, randint, uniform\n",
    "from CombinatorialProbability import IntegerPartition\n",
    "from collections import defaultdict\n",
    "from datetime import datetime\n",
    "from scipy.stats import chisquare\n",
    "from matplotlib import pyplot as plt"
   ]
  },
  {
   "cell_type": "code",
   "execution_count": 15,
   "metadata": {},
   "outputs": [],
   "source": [
    "ip = IntegerPartition()"
   ]
  },
  {
   "cell_type": "code",
   "execution_count": 22,
   "metadata": {},
   "outputs": [
    {
     "data": {
      "text/plain": [
       "<CombinatorialProbability.integer_partition.IntegerPartition at 0x1a239a1e10>"
      ]
     },
     "execution_count": 22,
     "metadata": {},
     "output_type": "execute_result"
    }
   ],
   "source": [
    "ip.fit(weight=10, make_array=True, make_table=True, make_tilt=True)"
   ]
  },
  {
   "cell_type": "code",
   "execution_count": 23,
   "metadata": {},
   "outputs": [
    {
     "data": {
      "text/plain": [
       "[[1, 0, 0, 0, 0, 0, 0, 0, 0, 0, 0],\n",
       " [1, 1, 1, 1, 1, 1, 1, 1, 1, 1, 1],\n",
       " [1, 1, 2, 2, 3, 3, 4, 4, 5, 5, 6],\n",
       " [1, 1, 2, 3, 4, 5, 7, 8, 10, 12, 14],\n",
       " [1, 1, 2, 3, 5, 6, 9, 11, 15, 18, 23],\n",
       " [1, 1, 2, 3, 5, 7, 10, 13, 18, 23, 30],\n",
       " [1, 1, 2, 3, 5, 7, 11, 14, 20, 26, 35],\n",
       " [1, 1, 2, 3, 5, 7, 11, 15, 21, 28, 38],\n",
       " [1, 1, 2, 3, 5, 7, 11, 15, 22, 29, 40],\n",
       " [1, 1, 2, 3, 5, 7, 11, 15, 22, 30, 41],\n",
       " [1, 1, 2, 3, 5, 7, 11, 15, 22, 30, 42]]"
      ]
     },
     "execution_count": 23,
     "metadata": {},
     "output_type": "execute_result"
    }
   ],
   "source": [
    "ip.p_n_k_table"
   ]
  },
  {
   "cell_type": "code",
   "execution_count": 38,
   "metadata": {},
   "outputs": [
    {
     "data": {
      "text/plain": [
       "[[{1: 2, 2: 4},\n",
       "  {1: 1, 2: 1, 7: 1},\n",
       "  {1: 1, 9: 1},\n",
       "  {1: 2, 2: 1, 6: 1},\n",
       "  {1: 10},\n",
       "  {1: 3, 7: 1},\n",
       "  {1: 6, 2: 2},\n",
       "  {2: 1, 8: 1},\n",
       "  {1: 2, 3: 1, 5: 1},\n",
       "  {1: 1, 3: 1, 6: 1}],\n",
       " [33, 21, 4, 5, 11, 39, 5, 31, 25, 14]]"
      ]
     },
     "execution_count": 38,
     "metadata": {},
     "output_type": "execute_result"
    }
   ],
   "source": [
    "ip.sampling(size=10, method='rejection')"
   ]
  },
  {
   "cell_type": "code",
   "execution_count": 40,
   "metadata": {},
   "outputs": [],
   "source": [
    "ip.sampling(size=10, method='pdc-recursion', method_params={'rows': 3})"
   ]
  },
  {
   "cell_type": "code",
   "execution_count": 54,
   "metadata": {},
   "outputs": [
    {
     "name": "stdout",
     "output_type": "stream",
     "text": [
      "0.6665914979119437\n",
      "[1, 1, 2, 3, 5, 7, 11, 15, 22, 30, 42]\n"
     ]
    }
   ],
   "source": [
    "table = ip.p_n_k_table\n",
    "n = ip.target['n'] #len(table)\n",
    "x = ip.x_\n",
    "print(x)\n",
    "print(table[n])"
   ]
  },
  {
   "cell_type": "code",
   "execution_count": 56,
   "metadata": {},
   "outputs": [],
   "source": [
    "row_max = numpy.max([table[n][i]*x**i for i in range(1, n+1)])\n",
    "probs = [table[n][i]*x**i/row_max for i in range(1, n+1)]"
   ]
  },
  {
   "cell_type": "code",
   "execution_count": 57,
   "metadata": {},
   "outputs": [
    {
     "data": {
      "text/plain": [
       "[0.6752283765908871,\n",
       " 0.9002029899687389,\n",
       " 0.9001014892621083,\n",
       " 1.0,\n",
       " 0.9332280970767212,\n",
       " 0.9775572951946756,\n",
       " 0.888588247770773,\n",
       " 0.8687438776257547,\n",
       " 0.7896781127568846,\n",
       " 0.736949802471244]"
      ]
     },
     "execution_count": 57,
     "metadata": {},
     "output_type": "execute_result"
    }
   ],
   "source": [
    "probs"
   ]
  },
  {
   "cell_type": "code",
   "execution_count": null,
   "metadata": {},
   "outputs": [],
   "source": []
  }
 ],
 "metadata": {
  "kernelspec": {
   "display_name": "Python 3",
   "language": "python",
   "name": "python3"
  },
  "language_info": {
   "codemirror_mode": {
    "name": "ipython",
    "version": 3
   },
   "file_extension": ".py",
   "mimetype": "text/x-python",
   "name": "python",
   "nbconvert_exporter": "python",
   "pygments_lexer": "ipython3",
   "version": "3.7.6"
  }
 },
 "nbformat": 4,
 "nbformat_minor": 4
}
